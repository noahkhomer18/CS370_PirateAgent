{
 "cells": [
  {
   "cell_type": "markdown",
   "metadata": {},
   "source": [
    "# Treasure Hunt Game Notebook\n",
    "\n",
    "## Read and Review Your Starter Code\n",
    "The theme of this project is a popular treasure hunt game in which the player needs to find the treasure before the pirate does. While you will not be developing the entire game, you will write the part of the game that represents the intelligent agent, which is a pirate in this case. The pirate will try to find the optimal path to the treasure using deep Q-learning. \n",
    "\n",
    "You have been provided with two Python classes and this notebook to help you with this assignment. The first class, TreasureMaze.py, represents the environment, which includes a maze object defined as a matrix. The second class, GameExperience.py, stores the episodes – that is, all the states that come in between the initial state and the terminal state. This is later used by the agent for learning by experience, called \"exploration\". This notebook shows how to play a game. Your task is to complete the deep Q-learning implementation for which a skeleton implementation has been provided. The code blocks you will need to complete has #TODO as a header.\n",
    "\n",
    "First, read and review the next few code and instruction blocks to understand the code that you have been given."
   ]
  },
  {
   "cell_type": "code",
   "execution_count": 24,
   "metadata": {},
   "outputs": [],
   "source": [
    "from __future__ import print_function\n",
    "import os, sys, time, datetime, json, random\n",
    "import numpy as np\n",
    "from keras.models import Sequential\n",
    "from keras.layers.core import Dense, Activation\n",
    "from keras.optimizers import SGD , Adam, RMSprop\n",
    "from keras.layers.advanced_activations import PReLU\n",
    "import matplotlib.pyplot as plt\n",
    "from TreasureMaze import TreasureMaze\n",
    "from GameExperience import GameExperience\n",
    "%matplotlib inline"
   ]
  },
  {
   "cell_type": "markdown",
   "metadata": {},
   "source": [
    "The following code block contains an 8x8 matrix that will be used as a maze object:"
   ]
  },
  {
   "cell_type": "code",
   "execution_count": 25,
   "metadata": {},
   "outputs": [],
   "source": [
    "maze = np.array([\n",
    "    [ 1.,  0.,  1.,  1.,  1.,  1.,  1.,  1.],\n",
    "    [ 1.,  0.,  1.,  1.,  1.,  0.,  1.,  1.],\n",
    "    [ 1.,  1.,  1.,  1.,  0.,  1.,  0.,  1.],\n",
    "    [ 1.,  1.,  1.,  0.,  1.,  1.,  1.,  1.],\n",
    "    [ 1.,  1.,  0.,  1.,  1.,  1.,  1.,  1.],\n",
    "    [ 1.,  1.,  1.,  0.,  1.,  0.,  0.,  0.],\n",
    "    [ 1.,  1.,  1.,  0.,  1.,  1.,  1.,  1.],\n",
    "    [ 1.,  1.,  1.,  1.,  0.,  1.,  1.,  1.]\n",
    "])"
   ]
  },
  {
   "cell_type": "markdown",
   "metadata": {},
   "source": [
    "This helper function allows a visual representation of the maze object:"
   ]
  },
  {
   "cell_type": "code",
   "execution_count": 26,
   "metadata": {},
   "outputs": [],
   "source": [
    "def show(qmaze):\n",
    "    plt.grid('on')\n",
    "    nrows, ncols = qmaze.maze.shape\n",
    "    ax = plt.gca()\n",
    "    ax.set_xticks(np.arange(0.5, nrows, 1))\n",
    "    ax.set_yticks(np.arange(0.5, ncols, 1))\n",
    "    ax.set_xticklabels([])\n",
    "    ax.set_yticklabels([])\n",
    "    canvas = np.copy(qmaze.maze)\n",
    "    for row,col in qmaze.visited:\n",
    "        canvas[row,col] = 0.6\n",
    "    pirate_row, pirate_col, _ = qmaze.state\n",
    "    canvas[pirate_row, pirate_col] = 0.3   # pirate cell\n",
    "    canvas[nrows-1, ncols-1] = 0.9 # treasure cell\n",
    "    img = plt.imshow(canvas, interpolation='none', cmap='gray')\n",
    "    return img"
   ]
  },
  {
   "cell_type": "markdown",
   "metadata": {},
   "source": [
    "The pirate agent can move in four directions: left, right, up, and down. \n",
    "\n",
    "While the agent primarily learns by experience through exploitation, often, the agent can choose to explore the environment to find previously undiscovered paths. This is called \"exploration\" and is defined by epsilon. This value is typically a lower value such as 0.1, which means for every ten attempts, the agent will attempt to learn by experience nine times and will randomly explore a new path one time. You are encouraged to try various values for the exploration factor and see how the algorithm performs."
   ]
  },
  {
   "cell_type": "code",
   "execution_count": 27,
   "metadata": {},
   "outputs": [],
   "source": [
    "LEFT = 0\n",
    "UP = 1\n",
    "RIGHT = 2\n",
    "DOWN = 3\n",
    "\n",
    "\n",
    "# Exploration factor\n",
    "epsilon = 0.1\n",
    "\n",
    "# Actions dictionary\n",
    "actions_dict = {\n",
    "    LEFT: 'left',\n",
    "    UP: 'up',\n",
    "    RIGHT: 'right',\n",
    "    DOWN: 'down',\n",
    "}\n",
    "\n",
    "num_actions = len(actions_dict)\n"
   ]
  },
  {
   "cell_type": "markdown",
   "metadata": {},
   "source": [
    "The sample code block and output below show creating a maze object and performing one action (DOWN), which returns the reward. The resulting updated environment is visualized."
   ]
  },
  {
   "cell_type": "code",
   "execution_count": 28,
   "metadata": {},
   "outputs": [
    {
     "name": "stdout",
     "output_type": "stream",
     "text": [
      "reward= -0.04\n"
     ]
    },
    {
     "data": {
      "text/plain": [
       "<matplotlib.image.AxesImage at 0x1d8d6f8f388>"
      ]
     },
     "execution_count": 28,
     "metadata": {},
     "output_type": "execute_result"
    },
    {
     "data": {
      "image/png": "[encoded data removed]",
      "text/plain": [
       "<Figure size 432x288 with 1 Axes>"
      ]
     },
     "metadata": {
      "needs_background": "light"
     },
     "output_type": "display_data"
    }
   ],
   "source": [
    "qmaze = TreasureMaze(maze)\n",
    "canvas, reward, game_over = qmaze.act(DOWN)\n",
    "print(\"reward=\", reward)\n",
    "show(qmaze)"
   ]
  },
  {
   "cell_type": "markdown",
   "metadata": {},
   "source": [
    "This function simulates a full game based on the provided trained model. The other parameters include the TreasureMaze object and the starting position of the pirate."
   ]
  },
  {
   "cell_type": "code",
   "execution_count": 29,
   "metadata": {},
   "outputs": [],
   "source": [
    "def play_game(model, qmaze, pirate_cell):\n",
    "    qmaze.reset(pirate_cell)\n",
    "    envstate = qmaze.observe()\n",
    "    while True:\n",
    "        prev_envstate = envstate\n",
    "        # get next action\n",
    "        q = model.predict(prev_envstate)\n",
    "        action = np.argmax(q[0])\n",
    "\n",
    "        # apply action, get rewards and new state\n",
    "        envstate, reward, game_status = qmaze.act(action)\n",
    "        if game_status == 'win':\n",
    "            return True\n",
    "        elif game_status == 'lose':\n",
    "            return False"
   ]
  },
  {
   "cell_type": "markdown",
   "metadata": {},
   "source": [
    "This function helps you to determine whether the pirate can win any game at all. If your maze is not well designed, the pirate may not win any game at all. In this case, your training would not yield any result. The provided maze in this notebook ensures that there is a path to win and you can run this method to check."
   ]
  },
  {
   "cell_type": "code",
   "execution_count": 30,
   "metadata": {},
   "outputs": [],
   "source": [
    "def completion_check(model, qmaze):\n",
    "    for cell in qmaze.free_cells:\n",
    "        if not qmaze.valid_actions(cell):\n",
    "            return False\n",
    "        if not play_game(model, qmaze, cell):\n",
    "            return False\n",
    "    return True"
   ]
  },
  {
   "cell_type": "markdown",
   "metadata": {},
   "source": [
    "The code you have been given in this block will build the neural network model. Review the code and note the number of layers, as well as the activation, optimizer, and loss functions that are used to train the model."
   ]
  },
  {
   "cell_type": "code",
   "execution_count": 31,
   "metadata": {},
   "outputs": [],
   "source": [
    "def build_model(maze):\n",
    "    model = Sequential()\n",
    "    model.add(Dense(maze.size, input_shape=(maze.size,)))\n",
    "    model.add(PReLU())\n",
    "    model.add(Dense(maze.size))\n",
    "    model.add(PReLU())\n",
    "    model.add(Dense(num_actions))\n",
    "    model.compile(optimizer='adam', loss='mse')\n",
    "    return model"
   ]
  },
  {
   "cell_type": "code",
   "execution_count": 32,
   "metadata": {},
   "outputs": [],
   "source": [
    "def format_time(seconds):\n",
    "    if seconds < 400:\n",
    "        return \"%.1f seconds\" % float(seconds)\n",
    "    elif seconds < 4000:\n",
    "        return \"%.2f minutes\" % (seconds / 60.0)\n",
    "    else:\n",
    "        return \"%.2f hours\" % (seconds / 3600.0)"
   ]
  },
  {
   "cell_type": "markdown",
   "metadata": {},
   "source": [
    "# #TODO: Complete the Q-Training Algorithm Code Block\n",
    "\n",
    "This is your deep Q-learning implementation. The goal of your deep Q-learning implementation is to find the best possible navigation sequence that results in reaching the treasure cell while maximizing the reward. In your implementation, you need to determine the optimal number of epochs to achieve a 100% win rate.\n",
    "\n",
    "You will need to complete the section starting with #pseudocode. The pseudocode has been included for you."
   ]
  },
  {
   "cell_type": "code",
   "execution_count": 33,
   "metadata": {},
   "outputs": [],
   "source": [
    "def qtrain(model, maze, **opt):\n",
    "    global epsilon\n",
    "\n",
    "    n_epoch = opt.get('epochs', 1000)\n",
    "    max_memory = opt.get('max_memory', 1000)\n",
    "    data_size = opt.get('data_size', 64)\n",
    "\n",
    "    qmaze = TreasureMaze(maze)\n",
    "    experience = GameExperience(model, max_memory=max_memory)\n",
    "    win_history = []\n",
    "    hsize = qmaze.maze.size // 2\n",
    "    win_rate = 0.0\n",
    "    start_time = datetime.datetime.now()\n",
    "\n",
    "    for epoch in range(n_epoch):\n",
    "        loss = 0.0\n",
    "        n_episodes = 0\n",
    "        agent_cell = random.choice(qmaze.free_cells)\n",
    "        qmaze.reset(agent_cell)\n",
    "        game_over = False\n",
    "\n",
    "        envstate = qmaze.observe()\n",
    "\n",
    "        while not game_over:\n",
    "            valid_actions = qmaze.valid_actions()\n",
    "            if not valid_actions:\n",
    "                break\n",
    "\n",
    "            prev_envstate = envstate\n",
    "\n",
    "            if np.random.rand() < epsilon:\n",
    "                action = random.choice(valid_actions)\n",
    "            else:\n",
    "                q_values = model.predict(prev_envstate)\n",
    "                action = np.argmax(q_values[0])\n",
    "\n",
    "            envstate, reward, game_status = qmaze.act(action)\n",
    "            game_over = (game_status != 'not_over')\n",
    "\n",
    "            episode = [prev_envstate, action, reward, envstate, game_status]\n",
    "            experience.remember(episode)\n",
    "            n_episodes += 1\n",
    "\n",
    "            inputs, targets = experience.get_data(data_size=data_size)\n",
    "            history = model.fit(inputs, targets, epochs=1, batch_size=16, verbose=0)\n",
    "            loss += history.history['loss'][0]\n",
    "\n",
    "        win = 1 if game_status == 'win' else 0\n",
    "        win_history.append(win)\n",
    "        if len(win_history) > hsize:\n",
    "            del win_history[0]\n",
    "        win_rate = sum(win_history) / len(win_history)\n",
    "\n",
    "        dt = datetime.datetime.now() - start_time\n",
    "        t = format_time(dt.total_seconds())\n",
    "        template = \"Epoch: {:03d}/{:d} | Loss: {:.4f} | Episodes: {:d} | Win count: {:d} | Win rate: {:.3f} | time: {}\"\n",
    "        print(template.format(epoch, n_epoch-1, loss, n_episodes, sum(win_history), win_rate, t))\n",
    "\n",
    "        if win_rate > 0.9:\n",
    "            epsilon = 0.05\n",
    "\n",
    "        if sum(win_history[-hsize:]) == hsize and completion_check(model, qmaze):\n",
    "            print(\"Reached 100% win rate at epoch: %d\" % (epoch,))\n",
    "            break\n",
    "\n",
    "    dt = datetime.datetime.now() - start_time\n",
    "    seconds = dt.total_seconds()\n",
    "    t = format_time(seconds)\n",
    "    print(\"n_epoch: %d, max_mem: %d, data: %d, time: %s\" % (epoch, max_memory, data_size, t))\n",
    "    return seconds\n"
   ]
  },
  {
   "cell_type": "markdown",
   "metadata": {},
   "source": [
    "## Test Your Model\n",
    "\n",
    "Now we will start testing the deep Q-learning implementation. To begin, select **Cell**, then **Run All** from the menu bar. This will run your notebook. As it runs, you should see output begin to appear beneath the next few cells. The code below creates an instance of TreasureMaze."
   ]
  },
  {
   "cell_type": "code",
   "execution_count": 34,
   "metadata": {},
   "outputs": [
    {
     "data": {
      "text/plain": [
       "<matplotlib.image.AxesImage at 0x1d8d6feb208>"
      ]
     },
     "execution_count": 34,
     "metadata": {},
     "output_type": "execute_result"
    },
    {
     "data": {
      "image/png": "[encoded data removed]",
      "text/plain": [
       "<Figure size 432x288 with 1 Axes>"
      ]
     },
     "metadata": {
      "needs_background": "light"
     },
     "output_type": "display_data"
    }
   ],
   "source": [
    "qmaze = TreasureMaze(maze)\n",
    "show(qmaze)"
   ]
  },
  {
   "cell_type": "markdown",
   "metadata": {},
   "source": [
    "In the next code block, you will build your model and train it using deep Q-learning. Note: This step takes several minutes to fully run."
   ]
  },
  {
   "cell_type": "code",
   "execution_count": 35,
   "metadata": {},
   "outputs": [
    {
     "name": "stdout",
     "output_type": "stream",
     "text": [
      "Epoch: 000/199 | Loss: 1.3720 | Episodes: 147 | Win count: 0 | Win rate: 0.000 | time: 6.4 seconds\n",
      "Epoch: 001/199 | Loss: 0.1329 | Episodes: 143 | Win count: 0 | Win rate: 0.000 | time: 12.0 seconds\n",
      "Epoch: 002/199 | Loss: 0.1382 | Episodes: 137 | Win count: 0 | Win rate: 0.000 | time: 17.4 seconds\n",
      "Epoch: 003/199 | Loss: 0.0065 | Episodes: 7 | Win count: 1 | Win rate: 0.250 | time: 17.6 seconds\n",
      "Epoch: 004/199 | Loss: 0.2740 | Episodes: 139 | Win count: 1 | Win rate: 0.200 | time: 23.1 seconds\n",
      "Epoch: 005/199 | Loss: 0.2111 | Episodes: 138 | Win count: 1 | Win rate: 0.167 | time: 28.6 seconds\n",
      "Epoch: 006/199 | Loss: 0.2536 | Episodes: 144 | Win count: 1 | Win rate: 0.143 | time: 34.6 seconds\n",
      "Epoch: 007/199 | Loss: 0.0377 | Episodes: 27 | Win count: 2 | Win rate: 0.250 | time: 35.7 seconds\n",
      "Epoch: 008/199 | Loss: 0.0049 | Episodes: 4 | Win count: 3 | Win rate: 0.333 | time: 35.9 seconds\n",
      "Epoch: 009/199 | Loss: 0.0679 | Episodes: 31 | Win count: 4 | Win rate: 0.400 | time: 37.1 seconds\n",
      "Epoch: 010/199 | Loss: 0.1573 | Episodes: 49 | Win count: 5 | Win rate: 0.455 | time: 39.1 seconds\n",
      "Epoch: 011/199 | Loss: 0.5015 | Episodes: 140 | Win count: 5 | Win rate: 0.417 | time: 44.7 seconds\n",
      "Epoch: 012/199 | Loss: 0.3717 | Episodes: 144 | Win count: 5 | Win rate: 0.385 | time: 50.4 seconds\n",
      "Epoch: 013/199 | Loss: 0.3016 | Episodes: 142 | Win count: 5 | Win rate: 0.357 | time: 55.8 seconds\n",
      "Epoch: 014/199 | Loss: 0.0286 | Episodes: 19 | Win count: 6 | Win rate: 0.400 | time: 56.5 seconds\n",
      "Epoch: 015/199 | Loss: 0.1620 | Episodes: 136 | Win count: 6 | Win rate: 0.375 | time: 61.8 seconds\n",
      "Epoch: 016/199 | Loss: 0.1580 | Episodes: 143 | Win count: 6 | Win rate: 0.353 | time: 67.3 seconds\n",
      "Epoch: 017/199 | Loss: 0.1684 | Episodes: 141 | Win count: 6 | Win rate: 0.333 | time: 72.7 seconds\n",
      "Epoch: 018/199 | Loss: 0.0120 | Episodes: 12 | Win count: 7 | Win rate: 0.368 | time: 73.2 seconds\n",
      "Epoch: 019/199 | Loss: 0.1838 | Episodes: 157 | Win count: 7 | Win rate: 0.350 | time: 79.3 seconds\n",
      "Epoch: 020/199 | Loss: 0.2071 | Episodes: 148 | Win count: 7 | Win rate: 0.333 | time: 85.0 seconds\n",
      "Epoch: 021/199 | Loss: 0.1788 | Episodes: 139 | Win count: 7 | Win rate: 0.318 | time: 90.4 seconds\n",
      "Epoch: 022/199 | Loss: 0.0260 | Episodes: 21 | Win count: 8 | Win rate: 0.348 | time: 91.2 seconds\n",
      "Epoch: 023/199 | Loss: 0.0462 | Episodes: 36 | Win count: 9 | Win rate: 0.375 | time: 92.6 seconds\n",
      "Epoch: 024/199 | Loss: 0.0040 | Episodes: 3 | Win count: 10 | Win rate: 0.400 | time: 92.7 seconds\n",
      "Epoch: 025/199 | Loss: 0.2005 | Episodes: 146 | Win count: 10 | Win rate: 0.385 | time: 98.3 seconds\n",
      "Epoch: 026/199 | Loss: 0.0054 | Episodes: 4 | Win count: 11 | Win rate: 0.407 | time: 98.4 seconds\n",
      "Epoch: 027/199 | Loss: 0.1565 | Episodes: 140 | Win count: 11 | Win rate: 0.393 | time: 103.8 seconds\n",
      "Epoch: 028/199 | Loss: 0.1499 | Episodes: 142 | Win count: 11 | Win rate: 0.379 | time: 109.3 seconds\n",
      "Epoch: 029/199 | Loss: 0.0065 | Episodes: 7 | Win count: 12 | Win rate: 0.400 | time: 109.5 seconds\n",
      "Epoch: 030/199 | Loss: 0.0122 | Episodes: 10 | Win count: 13 | Win rate: 0.419 | time: 109.9 seconds\n",
      "Epoch: 031/199 | Loss: 0.1774 | Episodes: 150 | Win count: 13 | Win rate: 0.406 | time: 115.7 seconds\n",
      "Epoch: 032/199 | Loss: 0.1835 | Episodes: 144 | Win count: 13 | Win rate: 0.406 | time: 121.2 seconds\n",
      "Epoch: 033/199 | Loss: 0.1644 | Episodes: 144 | Win count: 13 | Win rate: 0.406 | time: 126.7 seconds\n",
      "Epoch: 034/199 | Loss: 0.0175 | Episodes: 13 | Win count: 14 | Win rate: 0.438 | time: 127.2 seconds\n",
      "Epoch: 035/199 | Loss: 0.0452 | Episodes: 32 | Win count: 14 | Win rate: 0.438 | time: 128.5 seconds\n",
      "Epoch: 036/199 | Loss: 0.0347 | Episodes: 22 | Win count: 15 | Win rate: 0.469 | time: 129.3 seconds\n",
      "Epoch: 037/199 | Loss: 0.0183 | Episodes: 13 | Win count: 16 | Win rate: 0.500 | time: 129.9 seconds\n",
      "Epoch: 038/199 | Loss: 0.2019 | Episodes: 144 | Win count: 16 | Win rate: 0.500 | time: 135.4 seconds\n",
      "Epoch: 039/199 | Loss: 0.0042 | Episodes: 3 | Win count: 16 | Win rate: 0.500 | time: 135.5 seconds\n",
      "Epoch: 040/199 | Loss: 0.1984 | Episodes: 148 | Win count: 16 | Win rate: 0.500 | time: 141.5 seconds\n",
      "Epoch: 041/199 | Loss: 0.2229 | Episodes: 139 | Win count: 16 | Win rate: 0.500 | time: 146.9 seconds\n",
      "Epoch: 042/199 | Loss: 0.0013 | Episodes: 1 | Win count: 16 | Win rate: 0.500 | time: 146.9 seconds\n",
      "Epoch: 043/199 | Loss: 0.0471 | Episodes: 32 | Win count: 17 | Win rate: 0.531 | time: 148.1 seconds\n",
      "Epoch: 044/199 | Loss: 0.0119 | Episodes: 7 | Win count: 18 | Win rate: 0.562 | time: 148.4 seconds\n",
      "Epoch: 045/199 | Loss: 0.0027 | Episodes: 2 | Win count: 19 | Win rate: 0.594 | time: 148.5 seconds\n",
      "Epoch: 046/199 | Loss: 0.0094 | Episodes: 7 | Win count: 19 | Win rate: 0.594 | time: 148.7 seconds\n",
      "Epoch: 047/199 | Loss: 0.0256 | Episodes: 19 | Win count: 20 | Win rate: 0.625 | time: 149.5 seconds\n",
      "Epoch: 048/199 | Loss: 0.1819 | Episodes: 133 | Win count: 21 | Win rate: 0.656 | time: 154.6 seconds\n",
      "Epoch: 049/199 | Loss: 0.0497 | Episodes: 26 | Win count: 22 | Win rate: 0.688 | time: 155.5 seconds\n",
      "Epoch: 050/199 | Loss: 0.0990 | Episodes: 70 | Win count: 22 | Win rate: 0.688 | time: 158.2 seconds\n",
      "Epoch: 051/199 | Loss: 0.0387 | Episodes: 28 | Win count: 23 | Win rate: 0.719 | time: 159.3 seconds\n",
      "Epoch: 052/199 | Loss: 0.0068 | Episodes: 6 | Win count: 24 | Win rate: 0.750 | time: 159.5 seconds\n",
      "Epoch: 053/199 | Loss: 0.0175 | Episodes: 12 | Win count: 25 | Win rate: 0.781 | time: 159.9 seconds\n",
      "Epoch: 054/199 | Loss: 0.0588 | Episodes: 44 | Win count: 25 | Win rate: 0.781 | time: 161.6 seconds\n",
      "Epoch: 055/199 | Loss: 0.0226 | Episodes: 19 | Win count: 25 | Win rate: 0.781 | time: 162.3 seconds\n",
      "Epoch: 056/199 | Loss: 0.0130 | Episodes: 13 | Win count: 25 | Win rate: 0.781 | time: 162.8 seconds\n",
      "Epoch: 057/199 | Loss: 0.0219 | Episodes: 19 | Win count: 26 | Win rate: 0.812 | time: 163.6 seconds\n",
      "Epoch: 058/199 | Loss: 0.0668 | Episodes: 59 | Win count: 26 | Win rate: 0.812 | time: 165.8 seconds\n",
      "Epoch: 059/199 | Loss: 0.0210 | Episodes: 19 | Win count: 27 | Win rate: 0.844 | time: 166.5 seconds\n",
      "Epoch: 060/199 | Loss: 0.0137 | Episodes: 14 | Win count: 28 | Win rate: 0.875 | time: 167.1 seconds\n",
      "Epoch: 061/199 | Loss: 0.0205 | Episodes: 23 | Win count: 28 | Win rate: 0.875 | time: 167.9 seconds\n",
      "Epoch: 062/199 | Loss: 0.0008 | Episodes: 1 | Win count: 28 | Win rate: 0.875 | time: 168.0 seconds\n",
      "Epoch: 063/199 | Loss: 0.2326 | Episodes: 139 | Win count: 28 | Win rate: 0.875 | time: 173.2 seconds\n",
      "Epoch: 064/199 | Loss: 0.1691 | Episodes: 110 | Win count: 29 | Win rate: 0.906 | time: 177.5 seconds\n",
      "Epoch: 065/199 | Loss: 0.1757 | Episodes: 133 | Win count: 30 | Win rate: 0.938 | time: 182.5 seconds\n",
      "Epoch: 066/199 | Loss: 0.0051 | Episodes: 4 | Win count: 30 | Win rate: 0.938 | time: 182.7 seconds\n",
      "Epoch: 067/199 | Loss: 0.1529 | Episodes: 100 | Win count: 30 | Win rate: 0.938 | time: 186.5 seconds\n",
      "Epoch: 068/199 | Loss: 0.0590 | Episodes: 49 | Win count: 30 | Win rate: 0.938 | time: 188.4 seconds\n",
      "Epoch: 069/199 | Loss: 0.0128 | Episodes: 10 | Win count: 30 | Win rate: 0.938 | time: 188.8 seconds\n",
      "Epoch: 070/199 | Loss: 0.0048 | Episodes: 4 | Win count: 31 | Win rate: 0.969 | time: 188.9 seconds\n",
      "Epoch: 071/199 | Loss: 0.0262 | Episodes: 26 | Win count: 31 | Win rate: 0.969 | time: 189.9 seconds\n",
      "Epoch: 072/199 | Loss: 0.0215 | Episodes: 21 | Win count: 31 | Win rate: 0.969 | time: 190.7 seconds\n",
      "Epoch: 073/199 | Loss: 0.0166 | Episodes: 14 | Win count: 31 | Win rate: 0.969 | time: 191.3 seconds\n",
      "Epoch: 074/199 | Loss: 0.0051 | Episodes: 4 | Win count: 31 | Win rate: 0.969 | time: 191.4 seconds\n",
      "Epoch: 075/199 | Loss: 0.0210 | Episodes: 19 | Win count: 31 | Win rate: 0.969 | time: 192.2 seconds\n",
      "Epoch: 076/199 | Loss: 0.0016 | Episodes: 2 | Win count: 31 | Win rate: 0.969 | time: 192.3 seconds\n",
      "Epoch: 077/199 | Loss: 0.0280 | Episodes: 29 | Win count: 31 | Win rate: 0.969 | time: 193.4 seconds\n",
      "Epoch: 078/199 | Loss: 0.0144 | Episodes: 15 | Win count: 31 | Win rate: 0.969 | time: 194.0 seconds\n",
      "Epoch: 079/199 | Loss: 0.0113 | Episodes: 13 | Win count: 31 | Win rate: 0.969 | time: 194.5 seconds\n",
      "Epoch: 080/199 | Loss: 0.0197 | Episodes: 23 | Win count: 31 | Win rate: 0.969 | time: 195.4 seconds\n",
      "Epoch: 081/199 | Loss: 0.0179 | Episodes: 20 | Win count: 31 | Win rate: 0.969 | time: 196.1 seconds\n",
      "Epoch: 082/199 | Loss: 0.0072 | Episodes: 8 | Win count: 31 | Win rate: 0.969 | time: 196.4 seconds\n",
      "Epoch: 083/199 | Loss: 0.0127 | Episodes: 15 | Win count: 31 | Win rate: 0.969 | time: 197.0 seconds\n",
      "Epoch: 084/199 | Loss: 0.0111 | Episodes: 15 | Win count: 31 | Win rate: 0.969 | time: 197.6 seconds\n",
      "Epoch: 085/199 | Loss: 0.0126 | Episodes: 16 | Win count: 31 | Win rate: 0.969 | time: 198.2 seconds\n",
      "Epoch: 086/199 | Loss: 0.0033 | Episodes: 7 | Win count: 31 | Win rate: 0.969 | time: 198.5 seconds\n",
      "Epoch: 087/199 | Loss: 0.0067 | Episodes: 9 | Win count: 31 | Win rate: 0.969 | time: 198.9 seconds\n",
      "Epoch: 088/199 | Loss: 0.0059 | Episodes: 9 | Win count: 31 | Win rate: 0.969 | time: 199.2 seconds\n",
      "Epoch: 089/199 | Loss: 0.0428 | Episodes: 68 | Win count: 31 | Win rate: 0.969 | time: 201.8 seconds\n",
      "Epoch: 090/199 | Loss: 0.0043 | Episodes: 7 | Win count: 31 | Win rate: 0.969 | time: 202.1 seconds\n",
      "Epoch: 091/199 | Loss: 0.0217 | Episodes: 31 | Win count: 31 | Win rate: 0.969 | time: 203.4 seconds\n",
      "Epoch: 092/199 | Loss: 0.0009 | Episodes: 2 | Win count: 31 | Win rate: 0.969 | time: 203.5 seconds\n",
      "Epoch: 093/199 | Loss: 0.0052 | Episodes: 9 | Win count: 31 | Win rate: 0.969 | time: 203.8 seconds\n",
      "Epoch: 094/199 | Loss: 0.0110 | Episodes: 22 | Win count: 31 | Win rate: 0.969 | time: 204.7 seconds\n",
      "Epoch: 095/199 | Loss: 0.0066 | Episodes: 13 | Win count: 32 | Win rate: 1.000 | time: 205.2 seconds\n",
      "Epoch: 096/199 | Loss: 0.0158 | Episodes: 34 | Win count: 32 | Win rate: 1.000 | time: 206.5 seconds\n",
      "Epoch: 097/199 | Loss: 0.0031 | Episodes: 6 | Win count: 32 | Win rate: 1.000 | time: 206.9 seconds\n",
      "Epoch: 098/199 | Loss: 0.0105 | Episodes: 17 | Win count: 32 | Win rate: 1.000 | time: 207.6 seconds\n",
      "Epoch: 099/199 | Loss: 0.0392 | Episodes: 71 | Win count: 32 | Win rate: 1.000 | time: 210.4 seconds\n",
      "Epoch: 100/199 | Loss: 0.0160 | Episodes: 31 | Win count: 32 | Win rate: 1.000 | time: 211.6 seconds\n",
      "Epoch: 101/199 | Loss: 0.0062 | Episodes: 14 | Win count: 32 | Win rate: 1.000 | time: 212.3 seconds\n",
      "Epoch: 102/199 | Loss: 0.0001 | Episodes: 1 | Win count: 32 | Win rate: 1.000 | time: 212.4 seconds\n",
      "Epoch: 103/199 | Loss: 0.0161 | Episodes: 20 | Win count: 32 | Win rate: 1.000 | time: 213.2 seconds\n",
      "Epoch: 104/199 | Loss: 0.0142 | Episodes: 17 | Win count: 32 | Win rate: 1.000 | time: 213.9 seconds\n",
      "Epoch: 105/199 | Loss: 0.0302 | Episodes: 26 | Win count: 32 | Win rate: 1.000 | time: 215.0 seconds\n",
      "Epoch: 106/199 | Loss: 0.0279 | Episodes: 29 | Win count: 32 | Win rate: 1.000 | time: 216.1 seconds\n",
      "Epoch: 107/199 | Loss: 0.0152 | Episodes: 25 | Win count: 32 | Win rate: 1.000 | time: 217.3 seconds\n",
      "Epoch: 108/199 | Loss: 0.0270 | Episodes: 34 | Win count: 32 | Win rate: 1.000 | time: 218.7 seconds\n",
      "Epoch: 109/199 | Loss: 0.0266 | Episodes: 27 | Win count: 32 | Win rate: 1.000 | time: 219.8 seconds\n",
      "Epoch: 110/199 | Loss: 0.0318 | Episodes: 33 | Win count: 32 | Win rate: 1.000 | time: 221.1 seconds\n",
      "Epoch: 111/199 | Loss: 0.0115 | Episodes: 13 | Win count: 32 | Win rate: 1.000 | time: 221.7 seconds\n",
      "Epoch: 112/199 | Loss: 0.0222 | Episodes: 27 | Win count: 32 | Win rate: 1.000 | time: 222.8 seconds\n",
      "Epoch: 113/199 | Loss: 0.0210 | Episodes: 29 | Win count: 32 | Win rate: 1.000 | time: 224.0 seconds\n",
      "Epoch: 114/199 | Loss: 0.0127 | Episodes: 19 | Win count: 32 | Win rate: 1.000 | time: 224.8 seconds\n",
      "Epoch: 115/199 | Loss: 0.0060 | Episodes: 6 | Win count: 32 | Win rate: 1.000 | time: 225.1 seconds\n",
      "Epoch: 116/199 | Loss: 0.0077 | Episodes: 12 | Win count: 32 | Win rate: 1.000 | time: 225.6 seconds\n",
      "Epoch: 117/199 | Loss: 0.0052 | Episodes: 13 | Win count: 32 | Win rate: 1.000 | time: 226.2 seconds\n",
      "Epoch: 118/199 | Loss: 0.0165 | Episodes: 27 | Win count: 32 | Win rate: 1.000 | time: 227.3 seconds\n",
      "Epoch: 119/199 | Loss: 0.0008 | Episodes: 1 | Win count: 32 | Win rate: 1.000 | time: 227.4 seconds\n",
      "Epoch: 120/199 | Loss: 0.0029 | Episodes: 6 | Win count: 32 | Win rate: 1.000 | time: 227.7 seconds\n",
      "Epoch: 121/199 | Loss: 0.0068 | Episodes: 9 | Win count: 32 | Win rate: 1.000 | time: 228.1 seconds\n",
      "Epoch: 122/199 | Loss: 0.0241 | Episodes: 32 | Win count: 32 | Win rate: 1.000 | time: 229.4 seconds\n",
      "Epoch: 123/199 | Loss: 0.0133 | Episodes: 15 | Win count: 32 | Win rate: 1.000 | time: 230.1 seconds\n",
      "Epoch: 124/199 | Loss: 0.0075 | Episodes: 12 | Win count: 32 | Win rate: 1.000 | time: 230.6 seconds\n",
      "Epoch: 125/199 | Loss: 0.0210 | Episodes: 32 | Win count: 32 | Win rate: 1.000 | time: 232.0 seconds\n",
      "Epoch: 126/199 | Loss: 0.0050 | Episodes: 8 | Win count: 32 | Win rate: 1.000 | time: 232.4 seconds\n",
      "Epoch: 127/199 | Loss: 0.0101 | Episodes: 14 | Win count: 32 | Win rate: 1.000 | time: 233.0 seconds\n",
      "Epoch: 128/199 | Loss: 0.0137 | Episodes: 30 | Win count: 32 | Win rate: 1.000 | time: 234.3 seconds\n",
      "Epoch: 129/199 | Loss: 0.0048 | Episodes: 11 | Win count: 32 | Win rate: 1.000 | time: 234.8 seconds\n",
      "Epoch: 130/199 | Loss: 0.0032 | Episodes: 8 | Win count: 32 | Win rate: 1.000 | time: 235.2 seconds\n",
      "Epoch: 131/199 | Loss: 0.0073 | Episodes: 11 | Win count: 32 | Win rate: 1.000 | time: 235.7 seconds\n",
      "Epoch: 132/199 | Loss: 0.0033 | Episodes: 11 | Win count: 32 | Win rate: 1.000 | time: 236.2 seconds\n",
      "Epoch: 133/199 | Loss: 0.0125 | Episodes: 29 | Win count: 32 | Win rate: 1.000 | time: 237.3 seconds\n",
      "Epoch: 134/199 | Loss: 0.0080 | Episodes: 18 | Win count: 32 | Win rate: 1.000 | time: 238.1 seconds\n",
      "Epoch: 135/199 | Loss: 0.0010 | Episodes: 2 | Win count: 32 | Win rate: 1.000 | time: 238.2 seconds\n",
      "Epoch: 136/199 | Loss: 0.0065 | Episodes: 20 | Win count: 32 | Win rate: 1.000 | time: 239.1 seconds\n",
      "Epoch: 137/199 | Loss: 0.0067 | Episodes: 16 | Win count: 32 | Win rate: 1.000 | time: 239.8 seconds\n",
      "Epoch: 138/199 | Loss: 0.0147 | Episodes: 30 | Win count: 32 | Win rate: 1.000 | time: 241.0 seconds\n",
      "Epoch: 139/199 | Loss: 0.0077 | Episodes: 19 | Win count: 32 | Win rate: 1.000 | time: 242.0 seconds\n",
      "Epoch: 140/199 | Loss: 0.0003 | Episodes: 2 | Win count: 32 | Win rate: 1.000 | time: 242.4 seconds\n",
      "Epoch: 141/199 | Loss: 0.0070 | Episodes: 19 | Win count: 32 | Win rate: 1.000 | time: 243.2 seconds\n",
      "Epoch: 142/199 | Loss: 0.0105 | Episodes: 30 | Win count: 32 | Win rate: 1.000 | time: 244.4 seconds\n",
      "Epoch: 143/199 | Loss: 0.0025 | Episodes: 7 | Win count: 32 | Win rate: 1.000 | time: 244.7 seconds\n",
      "Epoch: 144/199 | Loss: 0.0141 | Episodes: 26 | Win count: 32 | Win rate: 1.000 | time: 246.0 seconds\n",
      "Epoch: 145/199 | Loss: 0.0128 | Episodes: 26 | Win count: 32 | Win rate: 1.000 | time: 247.3 seconds\n",
      "Epoch: 146/199 | Loss: 0.0072 | Episodes: 14 | Win count: 32 | Win rate: 1.000 | time: 247.9 seconds\n",
      "Epoch: 147/199 | Loss: 0.0149 | Episodes: 27 | Win count: 32 | Win rate: 1.000 | time: 249.0 seconds\n",
      "Epoch: 148/199 | Loss: 0.0039 | Episodes: 7 | Win count: 32 | Win rate: 1.000 | time: 249.4 seconds\n",
      "Epoch: 149/199 | Loss: 0.0209 | Episodes: 42 | Win count: 32 | Win rate: 1.000 | time: 251.1 seconds\n",
      "Epoch: 150/199 | Loss: 0.0073 | Episodes: 15 | Win count: 32 | Win rate: 1.000 | time: 251.7 seconds\n",
      "Epoch: 151/199 | Loss: 0.0153 | Episodes: 28 | Win count: 32 | Win rate: 1.000 | time: 252.9 seconds\n",
      "Epoch: 152/199 | Loss: 0.0081 | Episodes: 14 | Win count: 32 | Win rate: 1.000 | time: 253.8 seconds\n",
      "Epoch: 153/199 | Loss: 0.0086 | Episodes: 19 | Win count: 32 | Win rate: 1.000 | time: 254.6 seconds\n",
      "Epoch: 154/199 | Loss: 0.0063 | Episodes: 15 | Win count: 32 | Win rate: 1.000 | time: 255.5 seconds\n",
      "Epoch: 155/199 | Loss: 0.0470 | Episodes: 82 | Win count: 32 | Win rate: 1.000 | time: 259.2 seconds\n",
      "Epoch: 156/199 | Loss: 0.0053 | Episodes: 16 | Win count: 32 | Win rate: 1.000 | time: 260.0 seconds\n",
      "Epoch: 157/199 | Loss: 0.0115 | Episodes: 28 | Win count: 32 | Win rate: 1.000 | time: 261.2 seconds\n",
      "Epoch: 158/199 | Loss: 0.0011 | Episodes: 4 | Win count: 32 | Win rate: 1.000 | time: 261.4 seconds\n",
      "Epoch: 159/199 | Loss: 0.0121 | Episodes: 25 | Win count: 32 | Win rate: 1.000 | time: 262.5 seconds\n",
      "Epoch: 160/199 | Loss: 0.0061 | Episodes: 11 | Win count: 32 | Win rate: 1.000 | time: 263.0 seconds\n",
      "Epoch: 161/199 | Loss: 0.0065 | Episodes: 11 | Win count: 32 | Win rate: 1.000 | time: 263.5 seconds\n",
      "Epoch: 162/199 | Loss: 0.0182 | Episodes: 34 | Win count: 32 | Win rate: 1.000 | time: 265.0 seconds\n",
      "Epoch: 163/199 | Loss: 0.0137 | Episodes: 27 | Win count: 32 | Win rate: 1.000 | time: 266.1 seconds\n",
      "Epoch: 164/199 | Loss: 0.0061 | Episodes: 13 | Win count: 32 | Win rate: 1.000 | time: 266.8 seconds\n",
      "Epoch: 165/199 | Loss: 0.0083 | Episodes: 16 | Win count: 32 | Win rate: 1.000 | time: 267.5 seconds\n",
      "Epoch: 166/199 | Loss: 0.0051 | Episodes: 12 | Win count: 32 | Win rate: 1.000 | time: 268.0 seconds\n",
      "Epoch: 167/199 | Loss: 0.0094 | Episodes: 23 | Win count: 32 | Win rate: 1.000 | time: 269.1 seconds\n",
      "Epoch: 168/199 | Loss: 0.0186 | Episodes: 38 | Win count: 32 | Win rate: 1.000 | time: 270.7 seconds\n",
      "Epoch: 169/199 | Loss: 0.0123 | Episodes: 25 | Win count: 32 | Win rate: 1.000 | time: 271.8 seconds\n",
      "Epoch: 170/199 | Loss: 0.0035 | Episodes: 9 | Win count: 32 | Win rate: 1.000 | time: 272.2 seconds\n",
      "Epoch: 171/199 | Loss: 0.0029 | Episodes: 4 | Win count: 32 | Win rate: 1.000 | time: 272.5 seconds\n",
      "Epoch: 172/199 | Loss: 0.0170 | Episodes: 31 | Win count: 32 | Win rate: 1.000 | time: 273.8 seconds\n",
      "Epoch: 173/199 | Loss: 0.0047 | Episodes: 11 | Win count: 32 | Win rate: 1.000 | time: 274.3 seconds\n",
      "Epoch: 174/199 | Loss: 0.0018 | Episodes: 3 | Win count: 32 | Win rate: 1.000 | time: 274.8 seconds\n",
      "Epoch: 175/199 | Loss: 0.0055 | Episodes: 12 | Win count: 32 | Win rate: 1.000 | time: 275.7 seconds\n",
      "Epoch: 176/199 | Loss: 0.0079 | Episodes: 12 | Win count: 32 | Win rate: 1.000 | time: 276.2 seconds\n",
      "Epoch: 177/199 | Loss: 0.0124 | Episodes: 32 | Win count: 32 | Win rate: 1.000 | time: 277.6 seconds\n",
      "Epoch: 178/199 | Loss: 0.0137 | Episodes: 27 | Win count: 32 | Win rate: 1.000 | time: 278.8 seconds\n",
      "Epoch: 179/199 | Loss: 0.0226 | Episodes: 38 | Win count: 32 | Win rate: 1.000 | time: 280.3 seconds\n",
      "Epoch: 180/199 | Loss: 0.0106 | Episodes: 21 | Win count: 32 | Win rate: 1.000 | time: 281.2 seconds\n",
      "Epoch: 181/199 | Loss: 0.0098 | Episodes: 23 | Win count: 32 | Win rate: 1.000 | time: 282.2 seconds\n",
      "Epoch: 182/199 | Loss: 0.0195 | Episodes: 35 | Win count: 32 | Win rate: 1.000 | time: 283.6 seconds\n",
      "Epoch: 183/199 | Loss: 0.0108 | Episodes: 21 | Win count: 32 | Win rate: 1.000 | time: 284.5 seconds\n",
      "Epoch: 184/199 | Loss: 0.0007 | Episodes: 4 | Win count: 32 | Win rate: 1.000 | time: 284.7 seconds\n",
      "Epoch: 185/199 | Loss: 0.0148 | Episodes: 34 | Win count: 32 | Win rate: 1.000 | time: 286.1 seconds\n",
      "Epoch: 186/199 | Loss: 0.0009 | Episodes: 3 | Win count: 32 | Win rate: 1.000 | time: 286.3 seconds\n",
      "Epoch: 187/199 | Loss: 0.0007 | Episodes: 2 | Win count: 32 | Win rate: 1.000 | time: 286.4 seconds\n",
      "Epoch: 188/199 | Loss: 0.0155 | Episodes: 34 | Win count: 32 | Win rate: 1.000 | time: 287.8 seconds\n",
      "Epoch: 189/199 | Loss: 0.0081 | Episodes: 22 | Win count: 32 | Win rate: 1.000 | time: 288.7 seconds\n",
      "Epoch: 190/199 | Loss: 0.0196 | Episodes: 39 | Win count: 32 | Win rate: 1.000 | time: 290.3 seconds\n",
      "Epoch: 191/199 | Loss: 0.0436 | Episodes: 52 | Win count: 32 | Win rate: 1.000 | time: 292.4 seconds\n",
      "Epoch: 192/199 | Loss: 0.0026 | Episodes: 3 | Win count: 32 | Win rate: 1.000 | time: 292.5 seconds\n",
      "Epoch: 193/199 | Loss: 0.0161 | Episodes: 17 | Win count: 32 | Win rate: 1.000 | time: 293.3 seconds\n",
      "Epoch: 194/199 | Loss: 0.0205 | Episodes: 32 | Win count: 32 | Win rate: 1.000 | time: 294.6 seconds\n",
      "Epoch: 195/199 | Loss: 0.0016 | Episodes: 4 | Win count: 32 | Win rate: 1.000 | time: 294.8 seconds\n",
      "Epoch: 196/199 | Loss: 0.0012 | Episodes: 2 | Win count: 32 | Win rate: 1.000 | time: 295.0 seconds\n",
      "Epoch: 197/199 | Loss: 0.0037 | Episodes: 6 | Win count: 32 | Win rate: 1.000 | time: 295.3 seconds\n",
      "Epoch: 198/199 | Loss: 0.0166 | Episodes: 21 | Win count: 32 | Win rate: 1.000 | time: 296.2 seconds\n",
      "Epoch: 199/199 | Loss: 0.0134 | Episodes: 16 | Win count: 32 | Win rate: 1.000 | time: 296.9 seconds\n",
      "n_epoch: 199, max_mem: 512, data: 32, time: 296.9 seconds\n"
     ]
    },
    {
     "data": {
      "text/plain": [
       "296.938604"
      ]
     },
     "execution_count": 35,
     "metadata": {},
     "output_type": "execute_result"
    }
   ],
   "source": [
    "model = build_model(maze)\n",
    "qtrain(model, maze, epochs=200, max_memory=8*maze.size, data_size=32)"
   ]
  },
  {
   "cell_type": "markdown",
   "metadata": {},
   "source": [
    "This cell will check to see if the model passes the completion check. Note: This could take several minutes."
   ]
  },
  {
   "cell_type": "code",
   "execution_count": 36,
   "metadata": {},
   "outputs": [
    {
     "data": {
      "text/plain": [
       "<matplotlib.image.AxesImage at 0x1d8d6f8e608>"
      ]
     },
     "execution_count": 36,
     "metadata": {},
     "output_type": "execute_result"
    },
    {
     "data": {
      "image/png": "[encoded data removed]",
      "text/plain": [
       "<Figure size 432x288 with 1 Axes>"
      ]
     },
     "metadata": {
      "needs_background": "light"
     },
     "output_type": "display_data"
    }
   ],
   "source": [
    "completion_check(model, qmaze)\n",
    "show(qmaze)"
   ]
  },
  {
   "cell_type": "markdown",
   "metadata": {},
   "source": [
    "This cell will test your model for one game. It will start the pirate at the top-left corner and run play_game. The agent should find a path from the starting position to the target (treasure). The treasure is located in the bottom-right corner."
   ]
  },
  {
   "cell_type": "code",
   "execution_count": 37,
   "metadata": {},
   "outputs": [
    {
     "data": {
      "text/plain": [
       "<matplotlib.image.AxesImage at 0x1d8d1075488>"
      ]
     },
     "execution_count": 37,
     "metadata": {},
     "output_type": "execute_result"
    },
    {
     "data": {
      "image/png": "[encoded data removed]",
      "text/plain": [
       "<Figure size 432x288 with 1 Axes>"
      ]
     },
     "metadata": {
      "needs_background": "light"
     },
     "output_type": "display_data"
    }
   ],
   "source": [
    "pirate_start = (0, 0)\n",
    "play_game(model, qmaze, pirate_start)\n",
    "show(qmaze)"
   ]
  },
  {
   "cell_type": "markdown",
   "metadata": {},
   "source": [
    "## Save and Submit Your Work\n",
    "After you have finished creating the code for your notebook, save your work. Make sure that your notebook contains your name in the filename (e.g. Doe_Jane_ProjectTwo.ipynb). This will help your instructor access and grade your work easily. Download a copy of your IPYNB file and submit it to Brightspace. Refer to the Jupyter Notebook in Apporto Tutorial if you need help with these tasks."
   ]
  }
 ],
 "metadata": {
  "kernelspec": {
   "display_name": "Python 3",
   "language": "python",
   "name": "python3"
  },
  "language_info": {
   "codemirror_mode": {
    "name": "ipython",
    "version": 3
   },
   "file_extension": ".py",
   "mimetype": "text/x-python",
   "name": "python",
   "nbconvert_exporter": "python",
   "pygments_lexer": "ipython3",
   "version": "3.7.4"
  }
 },
 "nbformat": 4,
 "nbformat_minor": 2
}
